{
 "cells": [
  {
   "cell_type": "code",
   "execution_count": 1,
   "metadata": {},
   "outputs": [],
   "source": [
    "import pymongo\n",
    "import pandas as pd\n",
    "from random import shuffle\n",
    "import matplotlib.pyplot as plt\n",
    "from tqdm import tqdm, tqdm_notebook"
   ]
  },
  {
   "cell_type": "code",
   "execution_count": null,
   "metadata": {},
   "outputs": [],
   "source": []
  },
  {
   "cell_type": "code",
   "execution_count": 2,
   "metadata": {},
   "outputs": [],
   "source": [
    "# Load data dari Database MongoDB \n",
    "myClient = pymongo.MongoClient(\"mongodb://localhost:27017\")\n",
    "myDatabase = myClient.iStorage\n",
    "myCollection = myDatabase.iDataset"
   ]
  },
  {
   "cell_type": "code",
   "execution_count": null,
   "metadata": {},
   "outputs": [],
   "source": []
  },
  {
   "cell_type": "code",
   "execution_count": 6,
   "metadata": {},
   "outputs": [],
   "source": [
    "def getQuery(category=None):\n",
    "    data = []\n",
    "    iQuery = myCollection.find(\n",
    "        {\"category\": \"{}\".format(category)}, \n",
    "        {\n",
    "            \"title\": 1,\n",
    "            \"cleanContent\": 1\n",
    "        }).limit(200)\n",
    "    \n",
    "    for query in iQuery:\n",
    "        data.append(query)\n",
    "        \n",
    "    return data"
   ]
  },
  {
   "cell_type": "code",
   "execution_count": 7,
   "metadata": {},
   "outputs": [],
   "source": [
    "iData = []"
   ]
  },
  {
   "cell_type": "code",
   "execution_count": 8,
   "metadata": {},
   "outputs": [],
   "source": [
    "iData = getQuery('news')"
   ]
  },
  {
   "cell_type": "code",
   "execution_count": 12,
   "metadata": {},
   "outputs": [
    {
     "data": {
      "text/plain": [
       "{'_id': ObjectId('5d6dd2f52348b62c743dc06d'),\n",
       " 'title': 'Hakim Pengadil Kasus Kopi Sianida Daftar Capim KPK',\n",
       " 'cleanContent': 'hakim binsar gultom berjalan kaki berlari sekretariat panitia seleksi calon pimpinan komisi pemberantasan korupsi pansel capim kpk gedung kementerian sekretariat negara jakarta kamis 4 juli 2019 16 15 wib hakim dikenal mengadili kopi sianida terdakwa jessica kumala wongso mengikuti seleksi capim kpk pendaftaran ditutup 16 00 wib menenteng berkas tangannya binsar masuk ruang sekretariat 10 menit hakim pengadilan provinsi bangka belitung ditemui wartawan binsar mendaftar melengkapi data doakan ya kalinya mengikuti seleksi capim kpk periode 2019 2023 hakim karier lolos pimpinan lembaga antirasuah menetapkan pelaku mudah penyidik penuntut penasihat hukum hakim kpk menarik keputusannya mendaftar capim kpk mencari pekerjaan gagal mengikuti seleksi calon hakim agung joobseaker warna pendaftaran capim kpk periode 2019 2023 ditutup pansel memeriksa syarat administrasi pendaftar menentukan lolos tahap bantuan lembaga penelusuran rekam jejak calon komisioner polri kejaksaan agung badan intelijen negara bin ppatk mahkamah agung bnpt'}"
      ]
     },
     "execution_count": 12,
     "metadata": {},
     "output_type": "execute_result"
    }
   ],
   "source": [
    "iData[0]['clean']"
   ]
  },
  {
   "cell_type": "code",
   "execution_count": 10,
   "metadata": {},
   "outputs": [],
   "source": [
    "import requests\n",
    "from gensim.corpora import Dictionary\n",
    "from gensim.matutils import sparse2full\n",
    "from textacy.preprocess import preprocess_text\n",
    "from gensim.models.tfidfmodel import TfidfModel\n",
    "from sklearn.feature_extraction.text import TfidfVectorizer"
   ]
  },
  {
   "cell_type": "code",
   "execution_count": null,
   "metadata": {},
   "outputs": [],
   "source": []
  },
  {
   "cell_type": "code",
   "execution_count": 13,
   "metadata": {},
   "outputs": [],
   "source": [
    "stopwords = requests.get(\"https://raw.githubusercontent.com/masdevid/ID-Stopwords/master/id.stopwords.02.01.2016.txt\").text.split(\"\\n\")"
   ]
  },
  {
   "cell_type": "code",
   "execution_count": null,
   "metadata": {},
   "outputs": [],
   "source": [
    "clean_paragraph_stopwords = []\n",
    "for i in range(len(clean_paragraph)):\n",
    "    clean_paragraph_stopwords.append([word for word in clean_paragraph[i].split() if word not in stopwords])"
   ]
  },
  {
   "cell_type": "code",
   "execution_count": 11,
   "metadata": {},
   "outputs": [
    {
     "ename": "NameError",
     "evalue": "name 'clean_paragraph_stopwords' is not defined",
     "output_type": "error",
     "traceback": [
      "\u001b[0;31m---------------------------------------------------------------------------\u001b[0m",
      "\u001b[0;31mNameError\u001b[0m                                 Traceback (most recent call last)",
      "\u001b[0;32m<ipython-input-11-e4fa4f18f985>\u001b[0m in \u001b[0;36m<module>\u001b[0;34m()\u001b[0m\n\u001b[0;32m----> 1\u001b[0;31m \u001b[0mdocs_dict\u001b[0m \u001b[0;34m=\u001b[0m \u001b[0mDictionary\u001b[0m\u001b[0;34m(\u001b[0m\u001b[0mclean_paragraph_stopwords\u001b[0m\u001b[0;34m)\u001b[0m\u001b[0;34m\u001b[0m\u001b[0;34m\u001b[0m\u001b[0m\n\u001b[0m\u001b[1;32m      2\u001b[0m \u001b[0mdocs_dict\u001b[0m\u001b[0;34m.\u001b[0m\u001b[0mfilter_extremes\u001b[0m\u001b[0;34m(\u001b[0m\u001b[0mno_below\u001b[0m\u001b[0;34m=\u001b[0m\u001b[0;36m10\u001b[0m\u001b[0;34m,\u001b[0m \u001b[0mno_above\u001b[0m\u001b[0;34m=\u001b[0m\u001b[0;36m0.5\u001b[0m\u001b[0;34m)\u001b[0m\u001b[0;34m\u001b[0m\u001b[0;34m\u001b[0m\u001b[0m\n\u001b[1;32m      3\u001b[0m \u001b[0mdocs_dict\u001b[0m\u001b[0;34m.\u001b[0m\u001b[0mcompactify\u001b[0m\u001b[0;34m(\u001b[0m\u001b[0;34m)\u001b[0m\u001b[0;34m\u001b[0m\u001b[0;34m\u001b[0m\u001b[0m\n",
      "\u001b[0;31mNameError\u001b[0m: name 'clean_paragraph_stopwords' is not defined"
     ]
    }
   ],
   "source": [
    "docs_dict = Dictionary()\n",
    "docs_dict.filter_extremes(no_below=10, no_above=0.5)\n",
    "docs_dict.compactify()"
   ]
  },
  {
   "cell_type": "code",
   "execution_count": null,
   "metadata": {},
   "outputs": [],
   "source": []
  }
 ],
 "metadata": {
  "kernelspec": {
   "display_name": "Python 3",
   "language": "python",
   "name": "python3"
  },
  "language_info": {
   "codemirror_mode": {
    "name": "ipython",
    "version": 3
   },
   "file_extension": ".py",
   "mimetype": "text/x-python",
   "name": "python",
   "nbconvert_exporter": "python",
   "pygments_lexer": "ipython3",
   "version": "3.6.6+"
  }
 },
 "nbformat": 4,
 "nbformat_minor": 2
}
